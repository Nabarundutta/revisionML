{
  "nbformat": 4,
  "nbformat_minor": 0,
  "metadata": {
    "colab": {
      "provenance": [],
      "authorship_tag": "ABX9TyOPiqj+Nrr8KOwmL+kuCPPm",
      "include_colab_link": true
    },
    "kernelspec": {
      "name": "python3",
      "display_name": "Python 3"
    },
    "language_info": {
      "name": "python"
    }
  },
  "cells": [
    {
      "cell_type": "markdown",
      "metadata": {
        "id": "view-in-github",
        "colab_type": "text"
      },
      "source": [
        "<a href=\"https://colab.research.google.com/github/Nabarundutta/revisionML/blob/main/Gradiant.ipynb\" target=\"_parent\"><img src=\"https://colab.research.google.com/assets/colab-badge.svg\" alt=\"Open In Colab\"/></a>"
      ]
    },
    {
      "cell_type": "code",
      "execution_count": 1,
      "metadata": {
        "id": "pROseit-Vj8l"
      },
      "outputs": [],
      "source": [
        "import pandas as pd\n",
        "import numpy as np\n",
        "import matplotlib.pyplot as plt\n",
        "import seaborn as sns\n",
        "from sklearn.datasets import load_diabetes\n",
        "X,y = load_diabetes(return_X_y=True)"
      ]
    },
    {
      "cell_type": "code",
      "source": [
        "from sklearn.model_selection import train_test_split\n",
        "X_train,X_test,y_train,y_test = train_test_split(X,y,test_size=0.2, random_state = 10)"
      ],
      "metadata": {
        "id": "nbTY0GKrV3hR"
      },
      "execution_count": 2,
      "outputs": []
    },
    {
      "cell_type": "code",
      "source": [
        "print(X.shape)\n",
        "print(y.shape)"
      ],
      "metadata": {
        "colab": {
          "base_uri": "https://localhost:8080/"
        },
        "id": "QDA4v3ukWIdu",
        "outputId": "99201e00-a587-4b9d-d502-8e7b02a7fc99"
      },
      "execution_count": 3,
      "outputs": [
        {
          "output_type": "stream",
          "name": "stdout",
          "text": [
            "(442, 10)\n",
            "(442,)\n"
          ]
        }
      ]
    },
    {
      "cell_type": "code",
      "source": [
        "from sklearn.linear_model import LinearRegression\n",
        "reg = LinearRegression()\n",
        "reg.fit(X_train,y_train)\n",
        "reg.score(X_train,y_train)"
      ],
      "metadata": {
        "colab": {
          "base_uri": "https://localhost:8080/"
        },
        "id": "W-HO4grXWMOR",
        "outputId": "44665cd3-6d83-40de-a6ec-4f6e4f6dc8e7"
      },
      "execution_count": 4,
      "outputs": [
        {
          "output_type": "execute_result",
          "data": {
            "text/plain": [
              "0.5122948233206475"
            ]
          },
          "metadata": {},
          "execution_count": 4
        }
      ]
    },
    {
      "cell_type": "code",
      "source": [
        "print(reg.coef_)\n",
        "print(reg.intercept_)"
      ],
      "metadata": {
        "colab": {
          "base_uri": "https://localhost:8080/"
        },
        "id": "WTmiepS4WdSd",
        "outputId": "1f4ce60a-32fd-49ce-e057-d68b78cbb377"
      },
      "execution_count": 5,
      "outputs": [
        {
          "output_type": "stream",
          "name": "stdout",
          "text": [
            "[  -3.88733451 -225.62527795  517.90438059  328.31029449 -727.20288812\n",
            "  410.94784789   80.2547038   218.18152407  704.26613704   40.02330705]\n",
            "152.2555384904859\n"
          ]
        }
      ]
    },
    {
      "cell_type": "code",
      "source": [
        "class GDRegressor:\n",
        "  def __init__ (self,learning_rate=0.01,epochs=100):\n",
        "      self.coef_ = None\n",
        "      self.intercept_ = None\n",
        "      self.lr = learning_rate\n",
        "      self.epochs = epochs\n",
        "\n",
        "\n",
        "  def fit(self,X_train,y_train):\n",
        "      self.intercept_ = 0\n",
        "      self.coef_ = np.ones(X_train.shape[1])\n",
        "      for i in range(self.epochs):\n",
        "          y_hat = np.dot(X_train,self.coef_) + self.intercept_\n",
        "\n",
        "          intercept_derivative = -2 * np.mean(y_train - y_hat)\n",
        "          self.intercept_ = self.intercept_ - (self.lr * intercept_derivative)\n",
        "\n",
        "          coef_derivative = -2*np.dot((y_train - y_hat),X_train)/X_train.shape[0]\n",
        "          self.coef_ = self.coef_ - (self.lr * coef_derivative)\n",
        "\n",
        "      print(self.intercept_,self.coef_)\n",
        "\n",
        "  def predict(self,X_test):\n",
        "      return np.dot(X_test,self.coef_) + self.intercept_"
      ],
      "metadata": {
        "id": "o2JSamipWjf5"
      },
      "execution_count": 32,
      "outputs": []
    },
    {
      "cell_type": "code",
      "source": [
        "from sklearn.metrics import r2_score"
      ],
      "metadata": {
        "id": "-HkzY3dxcYUm"
      },
      "execution_count": 12,
      "outputs": []
    },
    {
      "cell_type": "code",
      "source": [
        "sgd = GDRegressor(learning_rate=0.98,epochs=10000)\n",
        "sgd.fit(X_train,y_train)\n",
        "y_pred = sgd.predict(X_test)\n",
        "\n"
      ],
      "metadata": {
        "colab": {
          "base_uri": "https://localhost:8080/"
        },
        "id": "5ND3HSZKcFXx",
        "outputId": "67a06021-7867-412f-974c-b7fd33d247e9"
      },
      "execution_count": 30,
      "outputs": [
        {
          "output_type": "stream",
          "name": "stdout",
          "text": [
            "152.15561495269532 [-4.08575355e-01 -2.21120556e+02  5.26323523e+02  3.24678679e+02\n",
            " -2.60831762e+02  4.66523575e+01 -1.27647174e+02  1.54501198e+02\n",
            "  5.25520881e+02  4.24027965e+01]\n"
          ]
        }
      ]
    },
    {
      "cell_type": "code",
      "source": [
        "print(r2_score(y_test,y_pred))\n"
      ],
      "metadata": {
        "colab": {
          "base_uri": "https://localhost:8080/"
        },
        "id": "HBXykTRjcMNs",
        "outputId": "a85d8b75-b922-4159-9e99-1368cf3f70b6"
      },
      "execution_count": 31,
      "outputs": [
        {
          "output_type": "stream",
          "name": "stdout",
          "text": [
            "0.5310711195526776\n"
          ]
        }
      ]
    },
    {
      "cell_type": "code",
      "source": [
        "X_train.shape[1]"
      ],
      "metadata": {
        "colab": {
          "base_uri": "https://localhost:8080/"
        },
        "id": "lMiHSUlPch7z",
        "outputId": "b98727e2-688d-4b4f-8a20-5aa4875f17c8"
      },
      "execution_count": 34,
      "outputs": [
        {
          "output_type": "execute_result",
          "data": {
            "text/plain": [
              "10"
            ]
          },
          "metadata": {},
          "execution_count": 34
        }
      ]
    },
    {
      "cell_type": "code",
      "source": [
        "class SGDRegressor:\n",
        "\n",
        "    def __init__(self,learning_rate=0.01,epochs=100):\n",
        "\n",
        "        self.coef_ = None\n",
        "        self.intercept_ = None\n",
        "        self.lr = learning_rate\n",
        "        self.epochs = epochs\n",
        "\n",
        "    def fit(self,X_train,y_train):\n",
        "        # init your coefs\n",
        "        self.intercept_ = 0\n",
        "        self.coef_ = np.ones(X_train.shape[1])\n",
        "\n",
        "        for i in range(self.epochs):\n",
        "            for j in range(X_train.shape[0]):\n",
        "                idx = np.random.randint(0,X_train.shape[0])\n",
        "\n",
        "                y_hat = np.dot(X_train[idx],self.coef_) + self.intercept_\n",
        "\n",
        "                intercept_der = -2 * (y_train[idx] - y_hat)\n",
        "                self.intercept_ = self.intercept_ - (self.lr * intercept_der)\n",
        "\n",
        "                coef_der = -2 * np.dot((y_train[idx] - y_hat),X_train[idx])\n",
        "                self.coef_ = self.coef_ - (self.lr * coef_der)\n",
        "\n",
        "        print(self.intercept_,self.coef_)\n",
        "\n",
        "    def predict(self,X_test):\n",
        "        return np.dot(X_test,self.coef_) + self.intercept_"
      ],
      "metadata": {
        "id": "u2suBHjJdxke"
      },
      "execution_count": 35,
      "outputs": []
    },
    {
      "cell_type": "code",
      "source": [
        "class MBGDRegressor:\n",
        "    def __init__(self,batch_size,learning_rate=0.01,epochs=100):\n",
        "        self.batch_size=batch_size\n",
        "        self.learning_rate=learning_rate\n",
        "        self.epochs=epochs\n",
        "        self.coef_ = None\n",
        "        self.intercept_ = None\n",
        "\n",
        "    def fit(self,X_train,y_train):\n",
        "        self.intercept_ = 0\n",
        "        self.coef_ = np.ones(X_train.shape[1])\n",
        "        for i in range(self.epochs):\n",
        "            for j in range(int(X_train.shape[0]/self.batch_size)):\n",
        "                idx = random.sample(range(X_train.shape[0]),self.batch_size)\n",
        "                y_hat = np.dot(X_train[idx],self.coef_) + self.intercept_\n",
        "                intercept_der = -2 * np.mean(y_train[idx] - y_hat)\n",
        "                self.intercept_ = self.intercept_ - (self.lr * intercept_der)\n",
        "\n",
        "                coef_der = -2 * np.dot((y_train[idx] - y_hat),X_train[idx])\n",
        "                self.coef_ = self.coef_ - (self.lr * coef_der)\n",
        "        print(self.intercept_,self.coef_)\n",
        "\n",
        "\n",
        "    def predict(self,X_test):\n",
        "        return np.dot(X_test,self.coef_) + self.intercept_\n"
      ],
      "metadata": {
        "id": "JPSOvvuWGUap"
      },
      "execution_count": 40,
      "outputs": []
    },
    {
      "cell_type": "code",
      "source": [
        "import random\n",
        "random.sample(range(1,100),10)"
      ],
      "metadata": {
        "colab": {
          "base_uri": "https://localhost:8080/"
        },
        "id": "LiHZb-nNISVz",
        "outputId": "46645a25-4643-441f-8c5f-976bae703ac9"
      },
      "execution_count": 36,
      "outputs": [
        {
          "output_type": "execute_result",
          "data": {
            "text/plain": [
              "[3, 44, 74, 5, 62, 93, 23, 97, 33, 79]"
            ]
          },
          "metadata": {},
          "execution_count": 36
        }
      ]
    },
    {
      "cell_type": "code",
      "source": [
        "idx = random.sample(range(X_train.shape[0]),10)"
      ],
      "metadata": {
        "id": "Vk0B1LWZIZ9L"
      },
      "execution_count": 38,
      "outputs": []
    },
    {
      "cell_type": "code",
      "source": [
        "idx"
      ],
      "metadata": {
        "colab": {
          "base_uri": "https://localhost:8080/"
        },
        "id": "8dPTj6_tIomF",
        "outputId": "7141342a-8fcb-40bb-f709-a71c83fe5bb8"
      },
      "execution_count": 39,
      "outputs": [
        {
          "output_type": "execute_result",
          "data": {
            "text/plain": [
              "[324, 93, 98, 188, 184, 284, 278, 200, 182, 291]"
            ]
          },
          "metadata": {},
          "execution_count": 39
        }
      ]
    },
    {
      "cell_type": "code",
      "source": [],
      "metadata": {
        "id": "r3fS3xptIssJ"
      },
      "execution_count": null,
      "outputs": []
    }
  ]
}